{
  "nbformat": 4,
  "nbformat_minor": 0,
  "metadata": {
    "colab": {
      "provenance": [],
      "authorship_tag": "ABX9TyPBZFThn0EL68MqKHoQC7xv",
      "include_colab_link": true
    },
    "kernelspec": {
      "name": "python3",
      "display_name": "Python 3"
    },
    "language_info": {
      "name": "python"
    }
  },
  "cells": [
    {
      "cell_type": "markdown",
      "metadata": {
        "id": "view-in-github",
        "colab_type": "text"
      },
      "source": [
        "<a href=\"https://colab.research.google.com/github/chengxin47/Introduction-to-Computers/blob/main/0515.ipynb\" target=\"_parent\"><img src=\"https://colab.research.google.com/assets/colab-badge.svg\" alt=\"Open In Colab\"/></a>"
      ]
    },
    {
      "cell_type": "code",
      "execution_count": 1,
      "metadata": {
        "colab": {
          "base_uri": "https://localhost:8080/"
        },
        "id": "txG_1i-lQimv",
        "outputId": "dd3e915b-5c9c-4e14-87e5-1e8cbf157578"
      },
      "outputs": [
        {
          "output_type": "stream",
          "name": "stdout",
          "text": [
            "0515\n"
          ]
        }
      ],
      "source": [
        "print(\"0515\")"
      ]
    },
    {
      "cell_type": "code",
      "source": [
        "rain=(input(\"今天會下雨嗎:\"))\n",
        "if (rain==\"Y\" or rain==\"y\"): \n",
        "  print(\"出門記得帶傘!\")\n",
        "elif(rain==\"N\" or rain==\"n\"):\n",
        "  print(\"不用帶傘!\")\n",
        "else:\n",
        "  print(\"請重新輸入\")"
      ],
      "metadata": {
        "colab": {
          "base_uri": "https://localhost:8080/"
        },
        "id": "BylLg4o3RKxk",
        "outputId": "f67d2774-c95b-4425-df5b-58406508955e"
      },
      "execution_count": 13,
      "outputs": [
        {
          "output_type": "stream",
          "name": "stdout",
          "text": [
            "今天會下雨嗎:f\n",
            "請重新輸入\n"
          ]
        }
      ]
    },
    {
      "cell_type": "code",
      "source": [
        "體溫=float(input(\"起輸入體溫:\"))\n",
        "if 體溫>=37.5: \n",
        "  print(\"體溫過高!\")\n",
        "elif 體溫>=37 and 體溫<37.4:\n",
        "  print(\"體溫略高!\")\n",
        "elif 體溫>=34 and 體溫<36.9:\n",
        "  print(\"體溫正常!\")\n",
        "else:\n",
        "  print(\"體溫異常，請重新量測!\")"
      ],
      "metadata": {
        "colab": {
          "base_uri": "https://localhost:8080/"
        },
        "id": "TYc9DA1FTmyT",
        "outputId": "b51e73ed-7f9d-4e71-b83e-cf493a5d2e50"
      },
      "execution_count": 32,
      "outputs": [
        {
          "output_type": "stream",
          "name": "stdout",
          "text": [
            "起輸入體溫:50\n",
            "體溫過高!\n"
          ]
        }
      ]
    },
    {
      "cell_type": "code",
      "source": [
        "score=int(input(\"請輸入成績:\"))\n",
        "if score>=90:\n",
        "  print(\"A\")\n",
        "elif score>=80 and score<=89:\n",
        "  print(\"B\")\n",
        "elif score>=70 and score<=79:\n",
        "  print(\"C\")\n",
        "elif score>=60 and score<=69:\n",
        "  print(\"D\")\n",
        "else:\n",
        "  print(\"E\")"
      ],
      "metadata": {
        "colab": {
          "base_uri": "https://localhost:8080/"
        },
        "id": "g17GVf3BTm8G",
        "outputId": "d876ea3a-ee19-47cf-8156-d33a0992e957"
      },
      "execution_count": 40,
      "outputs": [
        {
          "output_type": "stream",
          "name": "stdout",
          "text": [
            "請輸入成績:59\n",
            "E\n"
          ]
        }
      ]
    },
    {
      "cell_type": "code",
      "source": [
        "月份=int(input(\"輸入月份：\"))\n",
        "if 月份==3 or 月份==4 or 月份==5:\n",
        "  print(月份,\"月是春天!\")\n",
        "elif 月份==6 or 月份==7 or 月份==8:\n",
        "  print(月份,\"月是夏天!\")\n",
        "elif 月份==9 or 月份==10 or 月份==11:\n",
        "  print(月份,\"月是秋天!\")\n",
        "elif 月份==12 or 月份==1 or 月份==2:\n",
        "  print(月份,\"月是東天！\")\n",
        "else:\n",
        "  print(\"月份不在範圍內!\")"
      ],
      "metadata": {
        "colab": {
          "base_uri": "https://localhost:8080/"
        },
        "id": "uKlGzq4dTnEl",
        "outputId": "f253ceae-c4d0-4aff-b673-5a1d73bed31a"
      },
      "execution_count": 47,
      "outputs": [
        {
          "output_type": "stream",
          "name": "stdout",
          "text": [
            "輸入月份：13\n",
            "月份不在範圍內!\n"
          ]
        }
      ]
    },
    {
      "cell_type": "code",
      "source": [
        "收入=int(input(\"輸入今年收入淨額：\"))\n",
        "if 收入>=2000000:\n",
        "  print(\"付稅金額:\",收入*0.3)\n",
        "elif 收入>=1000000:\n",
        "  print(\"付稅金額:\",收入*0.21)\n",
        "elif 收入>=600000:\n",
        "  print(\"付稅金額:\",收入*0.13)\n",
        "elif 收入>=300000:\n",
        "  print(\"付稅金額:\",收入*0.06)\n",
        "else:\n",
        "  print(\"付稅金額:\",收入*0)"
      ],
      "metadata": {
        "colab": {
          "base_uri": "https://localhost:8080/"
        },
        "id": "2lFW0jt8b6f5",
        "outputId": "17798d4a-fc6f-4bf4-ed09-9fbfdcd7a67c"
      },
      "execution_count": 50,
      "outputs": [
        {
          "output_type": "stream",
          "name": "stdout",
          "text": [
            "輸入今年收入淨額：2000000\n",
            "付稅金額: 600000.0\n"
          ]
        }
      ]
    }
  ]
}